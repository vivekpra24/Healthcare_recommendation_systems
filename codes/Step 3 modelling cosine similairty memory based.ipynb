{
 "cells": [
  {
   "cell_type": "code",
   "execution_count": 1,
   "id": "280197c2-e192-4578-8c3a-46ae188b91cf",
   "metadata": {},
   "outputs": [],
   "source": [
    "## importing the libraries\n",
    "from surprise import Dataset, Reader, SVD\n",
    "from sklearn.decomposition import PCA\n",
    "import pandas as pd\n",
    "import numpy as np\n",
    "from sklearn.compose import make_column_transformer\n",
    "from sklearn.pipeline import make_pipeline\n",
    "from sklearn.preprocessing import StandardScaler, OneHotEncoder\n",
    "from sklearn.metrics.pairwise import cosine_similarity\n",
    "from sklearn.tree import DecisionTreeClassifier\n",
    "from sklearn.model_selection import train_test_split\n",
    "from sklearn.ensemble import RandomForestClassifier\n",
    "from sklearn.metrics import accuracy_score, precision_score, recall_score, f1_score\n",
    "\n",
    "## setting the maximum columns and rows\n",
    "import os\n",
    "pd.set_option('display.max_columns', 500)\n",
    "pd.set_option('display.max_rows', 500)\n",
    "\n",
    "## removing warnings\n",
    "import warnings\n",
    "warnings.simplefilter(\"ignore\", UserWarning)\n",
    "warnings.simplefilter(action='ignore', category=FutureWarning)\n",
    "pd.options.mode.chained_assignment = None"
   ]
  },
  {
   "cell_type": "code",
   "execution_count": 2,
   "id": "da3dfe1b-09cc-41d6-84ef-01f03ec3ec3f",
   "metadata": {},
   "outputs": [],
   "source": [
    "# Load the data\n",
    "master_data = pd.read_csv(r\"../data/processed_data/master_data_for_modelling.csv\")\n",
    "df_features = pd.read_excel(r\"C:../data/processed_data/all_features_for_modelling.xlsx\")\n",
    "df_hcc_description = pd.read_excel(\"..\\data\\PY 2024 Proposed Clinical Revision Part C Model ICD-10 Mappings.xlsx\"\n",
    "                             ,skiprows=3,dtype = {'2020_CMS-HCC': str, '2024_CMS-HCC': str})\n",
    "df_hcc_description = df_hcc_description[[\"2024_CMS-HCC\",\"Description\"]].rename(columns=\n",
    "                                                                               {\"2024_CMS-HCC\":\"HCC_code\",\"Description\":\"HCC_Description\"})\n",
    "data = master_data.iloc[:,2:]"
   ]
  },
  {
   "cell_type": "code",
   "execution_count": 3,
   "id": "cbf93653-a39c-433f-b541-0c04089d3961",
   "metadata": {},
   "outputs": [],
   "source": [
    "## converting categorical columns into strings\n",
    "categorical_cols = ['flag_ip','Gender','Race', 'RenalDiseaseIndicator','ChronicCond_Alzheimer','ChronicCond_Heartfailure','ChronicCond_KidneyDisease','ChronicCond_Cancer',\n",
    "'ChronicCond_ObstrPulmonary','ChronicCond_Depression','ChronicCond_Diabetes','ChronicCond_IschemicHeart','ChronicCond_Osteoporasis',\n",
    "'ChronicCond_rheumatoidarthritis','ChronicCond_stroke','Aged','community_institutional','Disability_condn','Benefits',\n",
    "'medicaid_flag','Disease_intraction_DIABETES_HF','Disease_intraction_HF_CHR_LUNG','Disease_intraction_HF_KIDNEY','Disease_intraction_CHR_LUNG_CARD_RESP_FAIL',\n",
    "'Disease_intraction_HF_HCC238','DISABLED_HF','DISABLED_ULCER_','DISABLED_CANCER','DISABLED_CHR_LUNG','disability']\n",
    "data[categorical_cols] = data[categorical_cols].astype(str)"
   ]
  },
  {
   "cell_type": "code",
   "execution_count": 6,
   "id": "2564d25d-3e36-4687-8cc1-f680ce52226f",
   "metadata": {},
   "outputs": [],
   "source": [
    "## saclling and onehot encoding of data\n",
    "\n",
    "# Define the column transformer\n",
    "ct = make_column_transformer(\n",
    "    (StandardScaler(), data.select_dtypes(include=['int', 'float']).columns.tolist()),\n",
    "    (OneHotEncoder(drop = \"first\"), data.select_dtypes(include=['object']).columns.tolist()))\n",
    "\n",
    "# Define the pipeline\n",
    "pipeline = make_pipeline(ct)\n",
    "\n",
    "# Transform the data\n",
    "transformed_data = pipeline.fit_transform(data)\n",
    "\n",
    "# Get the names of the encoded columns\n",
    "encoded_columns = pipeline.named_steps['columntransformer'].transformers_[1][1].get_feature_names(data.select_dtypes(include=['object']).columns.tolist())\n",
    "\n",
    "# Combine the column names\n",
    "column_names = data.select_dtypes(include=['int', 'float']).columns.tolist() + encoded_columns.tolist()\n",
    "\n",
    "# Convert the transformed data to a DataFrame with column names\n",
    "transformed_data_df = pd.DataFrame(transformed_data, columns=column_names)\n",
    "\n",
    "## missing values imputation with median\n",
    "transformed_data_df = transformed_data_df.fillna(transformed_data_df.median())"
   ]
  },
  {
   "cell_type": "markdown",
   "id": "d7b6d5b4-a5df-4fdb-be8a-bbd3cfc6260c",
   "metadata": {},
   "source": [
    "## cosine similairty"
   ]
  },
  {
   "cell_type": "markdown",
   "id": "0a67bc9f-275d-464a-a08e-93192c0082d9",
   "metadata": {},
   "source": [
    "#### user_user simialrity"
   ]
  },
  {
   "cell_type": "code",
   "execution_count": 17,
   "id": "7d46b3e1-5983-494c-bd54-bda91fcd88bd",
   "metadata": {},
   "outputs": [],
   "source": [
    "# user_user cosine similairty matrix\n",
    "\n",
    "test_beneficiaries_numbers = 10000\n",
    "transformed_data_df = pd.concat([master_data[['BeneID']] , transformed_data_df], axis = 1)\n",
    "user_vars = transformed_data_df.groupby('BeneID').mean()\n",
    "user_vars = user_vars.head(test_beneficiaries_numbers)"
   ]
  },
  {
   "cell_type": "code",
   "execution_count": 19,
   "id": "f3fbc00b-0aef-4e17-a187-f1923dc1d206",
   "metadata": {},
   "outputs": [
    {
     "name": "stdout",
     "output_type": "stream",
     "text": [
      "CPU times: total: 1.47 s\n",
      "Wall time: 924 ms\n"
     ]
    }
   ],
   "source": [
    "%%time\n",
    "\n",
    "##selecting thershold value of similairty\n",
    "similairty_thershold = 0.7\n",
    "\n",
    "## creating dataframe from cosin similarity matrix\n",
    "similarity_matrix_user = cosine_similarity(user_vars)\n",
    "similarity_df_user = pd.DataFrame(similarity_matrix_user, index=user_vars.index, columns=user_vars.index)\n",
    "\n",
    "##creating empty dataframe with 3 column names\n",
    "final_data = pd.DataFrame(columns = ['Target_Beneficiary', 'Similar_Beneficiary', 'Similarity_score'])\n",
    "\n",
    "##iterating through each Beneficiary from user_user similarity matrix\n",
    "for Beneficiary in similarity_df_user.columns.values.tolist():\n",
    "    \n",
    "    ##finding all similar services purchased by account and sorting it\n",
    "    result = pd.DataFrame(similarity_df_user.loc[Beneficiary].sort_values(ascending=False))\n",
    "    \n",
    "    ## round of simialrity score upto 6 decimal points,\n",
    "    ## finding top Similar beneficiaries whoes simialrity score is less than 0.8 and not including account itself\n",
    "    result[Beneficiary] = result[Beneficiary].round(6)\n",
    "    result = result[(result[Beneficiary] != 1.0000) & (result[Beneficiary] >= similairty_thershold)]\n",
    "    result = result.reset_index()\n",
    "    \n",
    "    ## creating temperarory dataframe and putting all values of top 5 similar account\n",
    "    temp_df = pd.DataFrame(columns = ['Target_Beneficiary', 'Similar_Beneficiary', 'Similarity_score'])\n",
    "\n",
    "    for i in range(len(result)):\n",
    "        temp_df = temp_df.append({'Target_Beneficiary' : Beneficiary , 'Similar_Beneficiary' : result[\"BeneID\"][i], 'Similarity_score' : result[Beneficiary][i]}, \n",
    "                    ignore_index = True)\n",
    "    \n",
    "    ## appending temperarory dataframe into final dataframe\n",
    "    final_data = final_data.append(temp_df, ignore_index = True)"
   ]
  },
  {
   "cell_type": "code",
   "execution_count": 24,
   "id": "5cd9f8c8-c07e-453c-bda9-363e914de353",
   "metadata": {},
   "outputs": [],
   "source": [
    "## creating target_HCC and similar_HCC columns\n",
    "\n",
    "df_BeneID_HCC_list = master_data[[\"BeneID\",\"HCC\"]].groupby(\"BeneID\").agg(lambda x: set(x.to_list())).reset_index()\n",
    "final_data = final_data.merge(df_BeneID_HCC_list, how = \"left\", right_on=\"BeneID\", left_on = \"Target_Beneficiary\").drop(columns=[\"BeneID\"]).rename(columns = {\"HCC\": \"Target_HCC\"})\n",
    "final_data = final_data.merge(df_BeneID_HCC_list, how = \"left\", right_on=\"BeneID\", left_on = \"Similar_Beneficiary\").drop(columns=[\"BeneID\"]).rename(columns = {\"HCC\": \"Simialr_HCC\"})"
   ]
  },
  {
   "cell_type": "code",
   "execution_count": 26,
   "id": "2c1e9797-d2f7-4612-ae4a-72f872fe0ee6",
   "metadata": {},
   "outputs": [],
   "source": [
    "## creating finding common HCC's between taget and simialr HCC's\n",
    "final_data['common_HCC'] = [x[0].intersection(x[1]) for x in zip(final_data['Target_HCC'], final_data['Simialr_HCC'])]\n",
    "final_data['common_HCC_count'] = [len(x) for x in final_data['common_HCC']]\n",
    "final_data.sort_values([\"Target_Beneficiary\",\"common_HCC_count\",\"Similarity_score\"],ascending=[True, False, False],inplace=True)\n",
    "final_data = final_data.groupby('Target_Beneficiary').apply(lambda x: x.head(5))\n",
    "final_data = final_data.drop(columns=[\"Target_Beneficiary\"]).reset_index().drop(columns=[\"level_1\",\"common_HCC_count\"])"
   ]
  },
  {
   "cell_type": "code",
   "execution_count": 28,
   "id": "ee0b1b3a-7b9c-42da-85b1-b44798be6dc3",
   "metadata": {},
   "outputs": [],
   "source": [
    "## creating individual recommendations by individual similar service for target services and converting it into a list\n",
    "final_data[\"individual_recommended_HCC\"] = final_data[\"Simialr_HCC\"] - final_data[\"Target_HCC\"]"
   ]
  },
  {
   "cell_type": "code",
   "execution_count": 30,
   "id": "ae6a63ce-f9f4-45e7-95c7-6fbae791f8a4",
   "metadata": {},
   "outputs": [],
   "source": [
    "## combining individual recommended HCC's at target beneficiary level and removing the duplicates.\n",
    "df_combined_recommedned_HCC = final_data[[\"Target_Beneficiary\",\"individual_recommended_HCC\"]].explode(\n",
    "    column = \"individual_recommended_HCC\").drop_duplicates(keep='first').groupby(\"Target_Beneficiary\").agg(lambda x: x.to_list()).rename(columns={\"individual_recommended_HCC\":\"combined_recommedned_HCC\"})\n",
    "\n",
    "final_data = final_data.merge(df_combined_recommedned_HCC, on=\"Target_Beneficiary\", how='left')"
   ]
  },
  {
   "cell_type": "code",
   "execution_count": 32,
   "id": "bcaabc20-b8cc-408f-acf6-51c58af58a4c",
   "metadata": {},
   "outputs": [
    {
     "data": {
      "text/html": [
       "<div>\n",
       "<style scoped>\n",
       "    .dataframe tbody tr th:only-of-type {\n",
       "        vertical-align: middle;\n",
       "    }\n",
       "\n",
       "    .dataframe tbody tr th {\n",
       "        vertical-align: top;\n",
       "    }\n",
       "\n",
       "    .dataframe thead th {\n",
       "        text-align: right;\n",
       "    }\n",
       "</style>\n",
       "<table border=\"1\" class=\"dataframe\">\n",
       "  <thead>\n",
       "    <tr style=\"text-align: right;\">\n",
       "      <th></th>\n",
       "      <th>Target_Beneficiary</th>\n",
       "      <th>Similar_Beneficiary</th>\n",
       "      <th>Similarity_score</th>\n",
       "      <th>Target_HCC</th>\n",
       "      <th>Simialr_HCC</th>\n",
       "      <th>common_HCC</th>\n",
       "      <th>individual_recommended_HCC</th>\n",
       "      <th>combined_recommedned_HCC</th>\n",
       "    </tr>\n",
       "  </thead>\n",
       "  <tbody>\n",
       "    <tr>\n",
       "      <th>0</th>\n",
       "      <td>BENE100001</td>\n",
       "      <td>BENE100002</td>\n",
       "      <td>0.816317</td>\n",
       "      <td>{152, 238}</td>\n",
       "      <td>{38, 264, 137, 201, 238, 19, 151, 280, 127}</td>\n",
       "      <td>{238}</td>\n",
       "      <td>{38, 264, 137, 201, 19, 151, 280, 127}</td>\n",
       "      <td>[38, 264, 137, 201, 19, 151, 280, 127, 226, 37...</td>\n",
       "    </tr>\n",
       "    <tr>\n",
       "      <th>1</th>\n",
       "      <td>BENE100001</td>\n",
       "      <td>BENE100073</td>\n",
       "      <td>0.859016</td>\n",
       "      <td>{152, 238}</td>\n",
       "      <td>{280, 226, 38}</td>\n",
       "      <td>{}</td>\n",
       "      <td>{280, 226, 38}</td>\n",
       "      <td>[38, 264, 137, 201, 19, 151, 280, 127, 226, 37...</td>\n",
       "    </tr>\n",
       "    <tr>\n",
       "      <th>2</th>\n",
       "      <td>BENE100001</td>\n",
       "      <td>BENE100114</td>\n",
       "      <td>0.854538</td>\n",
       "      <td>{152, 238}</td>\n",
       "      <td>{226, 37, 326, 38, 137, 298, 109, 112, 23, 151...</td>\n",
       "      <td>{}</td>\n",
       "      <td>{226, 37, 38, 326, 137, 298, 109, 112, 23, 151...</td>\n",
       "      <td>[38, 264, 137, 201, 19, 151, 280, 127, 226, 37...</td>\n",
       "    </tr>\n",
       "  </tbody>\n",
       "</table>\n",
       "</div>"
      ],
      "text/plain": [
       "  Target_Beneficiary Similar_Beneficiary  Similarity_score  Target_HCC  \\\n",
       "0         BENE100001          BENE100002          0.816317  {152, 238}   \n",
       "1         BENE100001          BENE100073          0.859016  {152, 238}   \n",
       "2         BENE100001          BENE100114          0.854538  {152, 238}   \n",
       "\n",
       "                                         Simialr_HCC common_HCC  \\\n",
       "0        {38, 264, 137, 201, 238, 19, 151, 280, 127}      {238}   \n",
       "1                                     {280, 226, 38}         {}   \n",
       "2  {226, 37, 326, 38, 137, 298, 109, 112, 23, 151...         {}   \n",
       "\n",
       "                          individual_recommended_HCC  \\\n",
       "0             {38, 264, 137, 201, 19, 151, 280, 127}   \n",
       "1                                     {280, 226, 38}   \n",
       "2  {226, 37, 38, 326, 137, 298, 109, 112, 23, 151...   \n",
       "\n",
       "                            combined_recommedned_HCC  \n",
       "0  [38, 264, 137, 201, 19, 151, 280, 127, 226, 37...  \n",
       "1  [38, 264, 137, 201, 19, 151, 280, 127, 226, 37...  \n",
       "2  [38, 264, 137, 201, 19, 151, 280, 127, 226, 37...  "
      ]
     },
     "execution_count": 32,
     "metadata": {},
     "output_type": "execute_result"
    }
   ],
   "source": [
    "final_data.head(3)"
   ]
  },
  {
   "cell_type": "markdown",
   "id": "7c13261b-0bca-445a-9d16-3bda979ff1af",
   "metadata": {},
   "source": [
    "user-user recommendations are comming good. but since it is a memory based approch so we will not be able to recommend HCC's to new users. that why in next approach we will try to convert this approch into model based approch by using singualr value decomposition. also by converting df_user_vars into U, S and VT and again creating a low rank matrix that is giving more accurate results."
   ]
  },
  {
   "cell_type": "markdown",
   "id": "50ef5960-7e1b-411a-873c-06438f29f8b4",
   "metadata": {},
   "source": [
    "#### item_item similairty"
   ]
  },
  {
   "cell_type": "code",
   "execution_count": 33,
   "id": "f76139c3-8f7b-4dbb-8cf7-80cb18ae7d95",
   "metadata": {},
   "outputs": [],
   "source": [
    "## item_item cosine similairty matrix\n",
    "transformed_data_df = pd.concat([master_data[['BeneID', 'HCC']] , transformed_data_df], axis = 1)\n",
    "item_vars = transformed_data_df.drop(columns=['BeneID']).groupby('HCC').mean()\n",
    "similarity_matrix_item = cosine_similarity(item_vars)\n",
    "similarity_df_item = pd.DataFrame(similarity_matrix_item, index=item_vars.index, columns=item_vars.index)"
   ]
  },
  {
   "cell_type": "code",
   "execution_count": 35,
   "id": "1ab0aa6e-9910-411d-9f4c-35a1d7ad1481",
   "metadata": {},
   "outputs": [
    {
     "data": {
      "text/html": [
       "<div>\n",
       "<style scoped>\n",
       "    .dataframe tbody tr th:only-of-type {\n",
       "        vertical-align: middle;\n",
       "    }\n",
       "\n",
       "    .dataframe tbody tr th {\n",
       "        vertical-align: top;\n",
       "    }\n",
       "\n",
       "    .dataframe thead th {\n",
       "        text-align: right;\n",
       "    }\n",
       "</style>\n",
       "<table border=\"1\" class=\"dataframe\">\n",
       "  <thead>\n",
       "    <tr style=\"text-align: right;\">\n",
       "      <th></th>\n",
       "      <th>Recommended_HCC</th>\n",
       "      <th>238</th>\n",
       "    </tr>\n",
       "  </thead>\n",
       "  <tbody>\n",
       "    <tr>\n",
       "      <th>0</th>\n",
       "      <td>201</td>\n",
       "      <td>0.995111</td>\n",
       "    </tr>\n",
       "    <tr>\n",
       "      <th>1</th>\n",
       "      <td>229</td>\n",
       "      <td>0.994454</td>\n",
       "    </tr>\n",
       "    <tr>\n",
       "      <th>2</th>\n",
       "      <td>79</td>\n",
       "      <td>0.993591</td>\n",
       "    </tr>\n",
       "    <tr>\n",
       "      <th>3</th>\n",
       "      <td>81</td>\n",
       "      <td>0.992325</td>\n",
       "    </tr>\n",
       "    <tr>\n",
       "      <th>4</th>\n",
       "      <td>283</td>\n",
       "      <td>0.992312</td>\n",
       "    </tr>\n",
       "    <tr>\n",
       "      <th>5</th>\n",
       "      <td>38</td>\n",
       "      <td>0.992142</td>\n",
       "    </tr>\n",
       "    <tr>\n",
       "      <th>6</th>\n",
       "      <td>94</td>\n",
       "      <td>0.991124</td>\n",
       "    </tr>\n",
       "    <tr>\n",
       "      <th>7</th>\n",
       "      <td>64</td>\n",
       "      <td>0.990980</td>\n",
       "    </tr>\n",
       "    <tr>\n",
       "      <th>8</th>\n",
       "      <td>182</td>\n",
       "      <td>0.990736</td>\n",
       "    </tr>\n",
       "  </tbody>\n",
       "</table>\n",
       "</div>"
      ],
      "text/plain": [
       "   Recommended_HCC       238\n",
       "0              201  0.995111\n",
       "1              229  0.994454\n",
       "2               79  0.993591\n",
       "3               81  0.992325\n",
       "4              283  0.992312\n",
       "5               38  0.992142\n",
       "6               94  0.991124\n",
       "7               64  0.990980\n",
       "8              182  0.990736"
      ]
     },
     "execution_count": 35,
     "metadata": {},
     "output_type": "execute_result"
    }
   ],
   "source": [
    "## top recommended HCC'S based on item item recommendation of 238 HCC\n",
    "hcc = 238\n",
    "top_recommendation = 10\n",
    "rename_dict = {\"HCC\":\"Recommended_HCC\", 1:\"Similarity_Score\"}\n",
    "pd.DataFrame(similarity_df_item.loc[hcc].sort_values(ascending=False)[1:top_recommendation]).reset_index().rename(columns = rename_dict)"
   ]
  },
  {
   "cell_type": "markdown",
   "id": "4aa0f4c6-c939-4188-a6a5-93cab7810d7d",
   "metadata": {},
   "source": [
    "item item similarity goes not take too much parameters into consideration. also item item simialrity is not more recommended for users recommendations."
   ]
  },
  {
   "cell_type": "code",
   "execution_count": null,
   "id": "4da77c32-a027-41b1-af6b-eb99b1c9d581",
   "metadata": {},
   "outputs": [],
   "source": []
  },
  {
   "cell_type": "code",
   "execution_count": null,
   "id": "f6117fbe-e473-458f-9b9e-d53499277db0",
   "metadata": {},
   "outputs": [],
   "source": []
  },
  {
   "cell_type": "code",
   "execution_count": null,
   "id": "d623a192-d44a-47b5-9085-2083dbeb60c9",
   "metadata": {},
   "outputs": [],
   "source": []
  },
  {
   "cell_type": "code",
   "execution_count": null,
   "id": "bf85de01-13b9-43e4-aec4-563c1f5d7b3e",
   "metadata": {},
   "outputs": [],
   "source": []
  },
  {
   "cell_type": "code",
   "execution_count": null,
   "id": "67dca469-da17-4136-a1eb-62695ccffe36",
   "metadata": {},
   "outputs": [],
   "source": []
  },
  {
   "cell_type": "code",
   "execution_count": null,
   "id": "8b2cf756-4dda-4d0c-b4ca-c28a3f17bf4c",
   "metadata": {},
   "outputs": [],
   "source": []
  },
  {
   "cell_type": "code",
   "execution_count": null,
   "id": "8bdc2f03-e15f-4d3f-9510-76dff915f705",
   "metadata": {},
   "outputs": [],
   "source": []
  },
  {
   "cell_type": "code",
   "execution_count": null,
   "id": "12144486-a896-41a7-82e5-f54f187a6c12",
   "metadata": {},
   "outputs": [],
   "source": []
  },
  {
   "cell_type": "code",
   "execution_count": null,
   "id": "7406f0d9-6655-4030-99f0-ed4854052e7b",
   "metadata": {},
   "outputs": [],
   "source": []
  },
  {
   "cell_type": "code",
   "execution_count": null,
   "id": "f9b0e13f-6df1-44b7-afc8-f2328fb2556f",
   "metadata": {},
   "outputs": [],
   "source": []
  },
  {
   "cell_type": "code",
   "execution_count": null,
   "id": "5b0b089d-16a6-492d-b595-c28e8435871a",
   "metadata": {},
   "outputs": [],
   "source": []
  },
  {
   "cell_type": "code",
   "execution_count": null,
   "id": "f7b9ee2d-aa5c-46a3-8187-4c854e829d0b",
   "metadata": {},
   "outputs": [],
   "source": []
  },
  {
   "cell_type": "code",
   "execution_count": null,
   "id": "5a22b7bb-7628-4407-af80-048d6a226a94",
   "metadata": {},
   "outputs": [],
   "source": []
  },
  {
   "cell_type": "code",
   "execution_count": null,
   "id": "83a0e574-fc68-4be9-9168-6d606de0daa7",
   "metadata": {},
   "outputs": [],
   "source": []
  },
  {
   "cell_type": "code",
   "execution_count": null,
   "id": "3ca0af88-8827-4ccd-9658-0f7426115a15",
   "metadata": {},
   "outputs": [],
   "source": []
  },
  {
   "cell_type": "code",
   "execution_count": null,
   "id": "25746567-1c8c-4014-af44-e977d7173730",
   "metadata": {},
   "outputs": [],
   "source": []
  },
  {
   "cell_type": "code",
   "execution_count": null,
   "id": "992385b2-48aa-45af-9717-88c48fd39e6a",
   "metadata": {},
   "outputs": [],
   "source": []
  }
 ],
 "metadata": {
  "kernelspec": {
   "display_name": "Python 3 (ipykernel)",
   "language": "python",
   "name": "python3"
  },
  "language_info": {
   "codemirror_mode": {
    "name": "ipython",
    "version": 3
   },
   "file_extension": ".py",
   "mimetype": "text/x-python",
   "name": "python",
   "nbconvert_exporter": "python",
   "pygments_lexer": "ipython3",
   "version": "3.9.13"
  }
 },
 "nbformat": 4,
 "nbformat_minor": 5
}
